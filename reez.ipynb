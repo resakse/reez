{
 "cells": [
  {
   "cell_type": "code",
   "execution_count": 3,
   "id": "initial_id",
   "metadata": {
    "collapsed": true,
    "ExecuteTime": {
     "end_time": "2024-01-13T00:13:24.860548335Z",
     "start_time": "2024-01-13T00:13:23.726017058Z"
    }
   },
   "outputs": [],
   "source": [
    "import os, sys\n",
    "os.environ.setdefault(\"DJANGO_SETTINGS_MODULE\", \"reez.settings\")\n",
    "import django\n",
    "django.setup()\n",
    "os.environ[\"DJANGO_ALLOW_ASYNC_UNSAFE\"] = \"true\"\n",
    "import json\n",
    "import pandas as pd"
   ]
  },
  {
   "cell_type": "code",
   "execution_count": 34,
   "outputs": [],
   "source": [
    "from exam.models import Exam, Part\n",
    "exam = Exam.objects.all()"
   ],
   "metadata": {
    "collapsed": false,
    "ExecuteTime": {
     "end_time": "2024-01-13T01:12:03.041070341Z",
     "start_time": "2024-01-13T01:12:03.033659308Z"
    }
   },
   "id": "e059aaec1e4e9434"
  },
  {
   "cell_type": "code",
   "execution_count": 9,
   "outputs": [],
   "source": [
    "df = pd.DataFrame.from_records(exam.values())"
   ],
   "metadata": {
    "collapsed": false,
    "ExecuteTime": {
     "end_time": "2024-01-13T00:18:45.077083312Z",
     "start_time": "2024-01-13T00:18:45.066360391Z"
    }
   },
   "id": "c505e463da7d3788"
  },
  {
   "cell_type": "code",
   "execution_count": 10,
   "outputs": [
    {
     "data": {
      "text/plain": "    id                      exam exam_code  part_id  modaliti_id catatan  \\\n0  256     Angio Abdominal Aorta  B4101ZXZ      NaN            6    None   \n1  257                Angio Arch   531Q1ZX      NaN            6    None   \n2  258  Angio Carotids/Vertebral   531CVZZ      NaN            6    None   \n3  259            Angio Cerebral   531VZZZ      NaN            6    None   \n4  260             Angio Coeliac   541CZZZ      NaN            6    None   \n\n  short_desc  contrast statistik_id status_ca  \n0       None     False         None    ENABLE  \n1       None     False         None    ENABLE  \n2       None     False         None    ENABLE  \n3       None     False         None    ENABLE  \n4       None     False         None    ENABLE  ",
      "text/html": "<div>\n<style scoped>\n    .dataframe tbody tr th:only-of-type {\n        vertical-align: middle;\n    }\n\n    .dataframe tbody tr th {\n        vertical-align: top;\n    }\n\n    .dataframe thead th {\n        text-align: right;\n    }\n</style>\n<table border=\"1\" class=\"dataframe\">\n  <thead>\n    <tr style=\"text-align: right;\">\n      <th></th>\n      <th>id</th>\n      <th>exam</th>\n      <th>exam_code</th>\n      <th>part_id</th>\n      <th>modaliti_id</th>\n      <th>catatan</th>\n      <th>short_desc</th>\n      <th>contrast</th>\n      <th>statistik_id</th>\n      <th>status_ca</th>\n    </tr>\n  </thead>\n  <tbody>\n    <tr>\n      <th>0</th>\n      <td>256</td>\n      <td>Angio Abdominal Aorta</td>\n      <td>B4101ZXZ</td>\n      <td>NaN</td>\n      <td>6</td>\n      <td>None</td>\n      <td>None</td>\n      <td>False</td>\n      <td>None</td>\n      <td>ENABLE</td>\n    </tr>\n    <tr>\n      <th>1</th>\n      <td>257</td>\n      <td>Angio Arch</td>\n      <td>531Q1ZX</td>\n      <td>NaN</td>\n      <td>6</td>\n      <td>None</td>\n      <td>None</td>\n      <td>False</td>\n      <td>None</td>\n      <td>ENABLE</td>\n    </tr>\n    <tr>\n      <th>2</th>\n      <td>258</td>\n      <td>Angio Carotids/Vertebral</td>\n      <td>531CVZZ</td>\n      <td>NaN</td>\n      <td>6</td>\n      <td>None</td>\n      <td>None</td>\n      <td>False</td>\n      <td>None</td>\n      <td>ENABLE</td>\n    </tr>\n    <tr>\n      <th>3</th>\n      <td>259</td>\n      <td>Angio Cerebral</td>\n      <td>531VZZZ</td>\n      <td>NaN</td>\n      <td>6</td>\n      <td>None</td>\n      <td>None</td>\n      <td>False</td>\n      <td>None</td>\n      <td>ENABLE</td>\n    </tr>\n    <tr>\n      <th>4</th>\n      <td>260</td>\n      <td>Angio Coeliac</td>\n      <td>541CZZZ</td>\n      <td>NaN</td>\n      <td>6</td>\n      <td>None</td>\n      <td>None</td>\n      <td>False</td>\n      <td>None</td>\n      <td>ENABLE</td>\n    </tr>\n  </tbody>\n</table>\n</div>"
     },
     "execution_count": 10,
     "metadata": {},
     "output_type": "execute_result"
    }
   ],
   "source": [
    "df.head()"
   ],
   "metadata": {
    "collapsed": false,
    "ExecuteTime": {
     "end_time": "2024-01-13T00:18:46.055443673Z",
     "start_time": "2024-01-13T00:18:46.011981692Z"
    }
   },
   "id": "37a534bc521c56e0"
  },
  {
   "cell_type": "code",
   "execution_count": 11,
   "outputs": [],
   "source": [
    "df.to_excel('exam.xlsx')"
   ],
   "metadata": {
    "collapsed": false,
    "ExecuteTime": {
     "end_time": "2024-01-13T00:20:15.901749676Z",
     "start_time": "2024-01-13T00:20:15.536270042Z"
    }
   },
   "id": "3d018cca646dcc3d"
  },
  {
   "cell_type": "code",
   "execution_count": 12,
   "outputs": [
    {
     "data": {
      "text/plain": "'/mnt/nvme/Coding/reez'"
     },
     "execution_count": 12,
     "metadata": {},
     "output_type": "execute_result"
    }
   ],
   "source": [
    "pwd"
   ],
   "metadata": {
    "collapsed": false,
    "ExecuteTime": {
     "end_time": "2024-01-13T00:20:56.254501119Z",
     "start_time": "2024-01-13T00:20:56.232894445Z"
    }
   },
   "id": "9b24b156b50ec248"
  },
  {
   "cell_type": "code",
   "execution_count": 40,
   "outputs": [],
   "source": [
    "exam = pd.read_excel('exam.xlsx')"
   ],
   "metadata": {
    "collapsed": false,
    "ExecuteTime": {
     "end_time": "2024-01-13T01:12:41.266114010Z",
     "start_time": "2024-01-13T01:12:41.207842590Z"
    }
   },
   "id": "c49c201da68175a"
  },
  {
   "cell_type": "code",
   "execution_count": null,
   "outputs": [],
   "source": [
    "part = []\n",
    "for index, row in exam.iterrows():\n",
    "    parts = row['part_id']\n",
    "    # print(f\"ID : {index} - {row['exam']} = {row['part_id']}\")\n",
    "    if pd.notnull(parts) and parts !=1:\n",
    "        print(f'Part : {parts}')\n",
    "        if parts in part:\n",
    "            print(f'{parts} dah ada')\n",
    "        else:\n",
    "            part.append(parts)"
   ],
   "metadata": {
    "collapsed": false
   },
   "id": "20d508b84193b331"
  },
  {
   "cell_type": "code",
   "execution_count": 50,
   "outputs": [],
   "source": [
    "for p in part:\n",
    "    Part.objects.create(part=p)"
   ],
   "metadata": {
    "collapsed": false,
    "ExecuteTime": {
     "end_time": "2024-01-13T01:18:38.606490536Z",
     "start_time": "2024-01-13T01:18:38.534437788Z"
    }
   },
   "id": "1cf7f743a70b936c"
  },
  {
   "cell_type": "code",
   "execution_count": 53,
   "outputs": [
    {
     "name": "stdout",
     "output_type": "stream",
     "text": [
      "Part : Digitization\n",
      "ni belum ada Digitized Bone Densitometry\n",
      "Part : Digitization\n",
      "ni belum ada Digitized CT Scan\n",
      "Part : Digitization\n",
      "ni belum ada Digitized Cath Angiogram\n",
      "Part : Digitization\n",
      "ni belum ada Digitized Fluoroscopy\n",
      "Part : Digitization\n",
      "ni belum ada Digitized General Radiography\n",
      "Part : Digitization\n",
      "ni belum ada Digitized Interventional Radiology\n",
      "Part : Digitization\n",
      "ni belum ada Digitized Intravenous Urography\n",
      "Part : Digitization\n",
      "ni belum ada Digitized MRI\n",
      "Part : Digitization\n",
      "ni belum ada Digitized Mammogram\n",
      "Part : Digitization\n",
      "ni belum ada Digitized Nuclear Medicine\n",
      "Part : Digitization\n",
      "ni belum ada Digitized Ultrasound\n",
      "Part : Abdomen\n",
      "ni belum ada X-Ray Abdomen\n",
      "Part : Abdomen\n",
      "ni belum ada X-Ray Abdomen - Imperforate Anus\n",
      "Part : Extremities\n",
      "ni belum ada X-Ray Acromio-Clavicular Joint\n",
      "Part : Extremities\n",
      "ni belum ada X-Ray Ankle Joint\n",
      "Part : Others\n",
      "ni belum ada X-Ray Bone Age\n",
      "Part : Others\n",
      "ni belum ada X-Ray Bone Dysplasia\n",
      "Part : Extremities\n",
      "ni belum ada X-Ray Calcaneum\n",
      "Part : Spines\n",
      "ni belum ada X-Ray Cervical\n",
      "Part : Chest\n",
      "ni belum ada X-Ray Chest\n",
      "Part : Extremities\n",
      "ni belum ada X-Ray Clavicle\n",
      "Part : Others\n",
      "ni belum ada X-Ray Dead Foetus\n",
      "Part : Extremities\n",
      "ni belum ada X-Ray Elbow Joint\n",
      "Part : Skull\n",
      "ni belum ada X-Ray Facial Bones\n",
      "Part : Extremities\n",
      "ni belum ada X-Ray Femur\n",
      "Part : Extremities\n",
      "ni belum ada X-Ray Fingers\n",
      "Part : Extremities\n",
      "ni belum ada X-Ray Foot\n",
      "Part : Others\n",
      "ni belum ada X-Ray For Medical Illness Adult\n",
      "Part : Extremities\n",
      "ni belum ada X-Ray Hand\n",
      "Part : Pelvis\n",
      "ni belum ada X-Ray Hip Joint\n",
      "Part : Extremities\n",
      "ni belum ada X-Ray Humerus\n",
      "Part : Skull\n",
      "ni belum ada X-Ray Internal Auditory Meatus\n",
      "Part : Abdomen\n",
      "ni belum ada X-Ray KUB (Kidney, Ureters, Bladder)\n",
      "Part : Extremities\n",
      "ni belum ada X-Ray Knee Joint\n",
      "Part : Extremities\n",
      "ni belum ada X-Ray Low Limb Both-Paed-Bone Lgth Meas.\n",
      "Part : Spines\n",
      "ni belum ada X-Ray Lumbo-sacral\n",
      "Part : Skull\n",
      "ni belum ada X-Ray Mandible\n",
      "Part : Skull\n",
      "ni belum ada X-Ray Mastoids\n",
      "Part : Skull\n",
      "ni belum ada X-Ray Maxilla\n",
      "Part : Skeletal Survey\n",
      "ni belum ada X-Ray Metastasis\n",
      "Part : Skeletal Survey\n",
      "ni belum ada X-Ray Multiple Myeloma\n",
      "Part : Skull\n",
      "ni belum ada X-Ray Nasal Bone\n",
      "Part : Skull\n",
      "ni belum ada X-Ray Orbits\n",
      "Part : OPG\n",
      "ni belum ada X-Ray Orthopantomogram (OPG)\n",
      "Part : Skull\n",
      "ni belum ada X-Ray Paranasal Sinuses\n",
      "Part : Pelvis\n",
      "ni belum ada X-Ray Pelvimetry\n",
      "Part : Pelvis\n",
      "ni belum ada X-Ray Pelvis\n",
      "Part : Skull\n",
      "ni belum ada X-Ray Petrous Temporal Bone\n",
      "Part : Skull\n",
      "ni belum ada X-Ray Pituitary Fossa\n",
      "Part : Skull\n",
      "ni belum ada X-Ray Post Nasal Space\n",
      "Part : Extremities\n",
      "ni belum ada X-Ray Radius/Ulna\n",
      "Part : Abdomen\n",
      "ni belum ada X-Ray Renal Osteodystrophy\n",
      "Part : OPG\n",
      "ni belum ada X-Ray SXR - Lateral Cephalometry\n",
      "Part : Spines\n",
      "ni belum ada X-Ray Sacro-iliac Joints\n",
      "Part : Spines\n",
      "ni belum ada X-Ray Sacrum - Coccyx\n",
      "Part : Extremities\n",
      "ni belum ada X-Ray Scaphoid\n",
      "Part : Extremities\n",
      "ni belum ada X-Ray Scapula\n",
      "Part : Extremities\n",
      "ni belum ada X-Ray Shoulder Joint\n",
      "Part : Extremities\n",
      "ni belum ada X-Ray Shoulder Joint (INACTIVE)\n",
      "Part : Skeletal Survey\n",
      "ni belum ada X-Ray Skeletal Survey\n",
      "Part : Skull\n",
      "ni belum ada X-Ray Skull\n",
      "Part : Others\n",
      "ni belum ada X-Ray Soft Tissue Neck\n",
      "Part : Extremities\n",
      "ni belum ada X-Ray Sterno-Clavicular Joints\n",
      "Part : Chest\n",
      "ni belum ada X-Ray Sternum\n",
      "Part : Skull\n",
      "ni belum ada X-Ray Temporo-Mandibular Jts\n",
      "Part : Spines\n",
      "ni belum ada X-Ray Thoracic\n",
      "Part : Spines\n",
      "ni belum ada X-Ray Thoraco-Lumbar\n",
      "Part : Extremities\n",
      "ni belum ada X-Ray Thumb\n",
      "Part : Extremities\n",
      "ni belum ada X-Ray Tibia/Fibula\n",
      "Part : Extremities\n",
      "ni belum ada X-Ray Up Limbs Both-Paed-Bone Lgth Meas.\n",
      "Part : Spines\n",
      "ni belum ada X-Ray Whole Spine\n",
      "Part : Spines\n",
      "ni belum ada X-Ray Wrist Joint\n",
      "Part : Hard Copy\n",
      "ni belum ada Hardcopy Angiography\n",
      "Part : Hard Copy\n",
      "ni belum ada Hardcopy CT Scan\n",
      "Part : Hard Copy\n",
      "ni belum ada Hardcopy Cardiac Angio\n",
      "Part : Hard Copy\n",
      "ni belum ada Hardcopy Fluoroscopy\n",
      "Part : Hard Copy\n",
      "ni belum ada Hardcopy General Radiography\n",
      "Part : Hard Copy\n",
      "ni belum ada Hardcopy Interventional\n",
      "Part : Hard Copy\n",
      "ni belum ada Hardcopy Intravenous Urography\n",
      "Part : Hard Copy\n",
      "ni belum ada Hardcopy MRI\n",
      "Part : Hard Copy\n",
      "ni belum ada Hardcopy Mammogram\n",
      "Part : Hard Copy\n",
      "ni belum ada Hardcopy Ultrasound\n"
     ]
    }
   ],
   "source": [
    "for index, row in exam.iterrows():\n",
    "    parts = row['part_id']\n",
    "    exams = row['exam']\n",
    "    # print(f\"ID : {index} - {row['exam']} = {row['part_id']}\")\n",
    "    if pd.notnull(parts) and parts !=1:\n",
    "        print(f'Part : {parts}')\n",
    "        print(f'ni belum ada {exams}') \n",
    "        Exam.objects.get(exam=exams).update(part)"
   ],
   "metadata": {
    "collapsed": false,
    "ExecuteTime": {
     "end_time": "2024-01-13T01:22:52.086613688Z",
     "start_time": "2024-01-13T01:22:52.045427805Z"
    }
   },
   "id": "9e8a5345db14b770"
  },
  {
   "cell_type": "code",
   "execution_count": 79,
   "outputs": [],
   "source": [
    "anggota = list(Part.objects.all().values_list('part','id'))"
   ],
   "metadata": {
    "collapsed": false,
    "ExecuteTime": {
     "end_time": "2024-01-13T01:34:23.642240622Z",
     "start_time": "2024-01-13T01:34:23.599983097Z"
    }
   },
   "id": "b34215ef80ced4df"
  },
  {
   "cell_type": "code",
   "execution_count": 80,
   "outputs": [
    {
     "data": {
      "text/plain": "[('ABDOMEN', 1),\n ('DIGITIZATION', 85),\n ('EXTREMITIES', 87),\n ('OTHERS', 88),\n ('SPINES', 89),\n ('CHEST', 90),\n ('SKULL', 91),\n ('PELVIS', 92),\n ('SKELETAL SURVEY', 93),\n ('OPG', 94),\n ('HARD COPY', 95)]"
     },
     "execution_count": 80,
     "metadata": {},
     "output_type": "execute_result"
    }
   ],
   "source": [
    "anggota"
   ],
   "metadata": {
    "collapsed": false,
    "ExecuteTime": {
     "end_time": "2024-01-13T01:34:24.303541416Z",
     "start_time": "2024-01-13T01:34:24.299053143Z"
    }
   },
   "id": "b6ae504667c7b2e8"
  },
  {
   "cell_type": "code",
   "execution_count": 82,
   "outputs": [],
   "source": [
    "ang = dict(anggota)"
   ],
   "metadata": {
    "collapsed": false,
    "ExecuteTime": {
     "end_time": "2024-01-13T01:34:41.501173333Z",
     "start_time": "2024-01-13T01:34:41.491592368Z"
    }
   },
   "id": "386f6ccae70f4644"
  },
  {
   "cell_type": "code",
   "execution_count": 85,
   "outputs": [
    {
     "data": {
      "text/plain": "94"
     },
     "execution_count": 85,
     "metadata": {},
     "output_type": "execute_result"
    }
   ],
   "source": [
    "ang['OPG']"
   ],
   "metadata": {
    "collapsed": false,
    "ExecuteTime": {
     "end_time": "2024-01-13T01:35:03.878533052Z",
     "start_time": "2024-01-13T01:35:03.862472478Z"
    }
   },
   "id": "fb570193b05f5bf0"
  },
  {
   "cell_type": "code",
   "execution_count": null,
   "outputs": [],
   "source": [],
   "metadata": {
    "collapsed": false
   },
   "id": "41fcf869576ca583"
  },
  {
   "cell_type": "code",
   "execution_count": 92,
   "outputs": [
    {
     "name": "stdout",
     "output_type": "stream",
     "text": [
      "Digitized Bone Densitometry | DIGITIZATION - 85\n",
      "Digitized CT Scan | DIGITIZATION - 85\n",
      "Digitized Cath Angiogram | DIGITIZATION - 85\n",
      "Digitized Fluoroscopy | DIGITIZATION - 85\n",
      "Digitized General Radiography | DIGITIZATION - 85\n",
      "Digitized Interventional Radiology | DIGITIZATION - 85\n",
      "Digitized Intravenous Urography | DIGITIZATION - 85\n",
      "Digitized MRI | DIGITIZATION - 85\n",
      "Digitized Mammogram | DIGITIZATION - 85\n",
      "Digitized Nuclear Medicine | DIGITIZATION - 85\n",
      "Digitized Ultrasound | DIGITIZATION - 85\n",
      "X-Ray Abdomen | ABDOMEN - 1\n",
      "X-Ray Abdomen - Imperforate Anus | ABDOMEN - 1\n",
      "X-Ray Acromio-Clavicular Joint | EXTREMITIES - 87\n",
      "X-Ray Ankle Joint | EXTREMITIES - 87\n",
      "X-Ray Bone Age | OTHERS - 88\n",
      "X-Ray Bone Dysplasia | OTHERS - 88\n",
      "X-Ray Calcaneum | EXTREMITIES - 87\n",
      "X-Ray Cervical | SPINES - 89\n",
      "X-Ray Chest | CHEST - 90\n",
      "X-Ray Clavicle | EXTREMITIES - 87\n",
      "X-Ray Dead Foetus | OTHERS - 88\n",
      "X-Ray Elbow Joint | EXTREMITIES - 87\n",
      "X-Ray Facial Bones | SKULL - 91\n",
      "X-Ray Femur | EXTREMITIES - 87\n",
      "X-Ray Fingers | EXTREMITIES - 87\n",
      "X-Ray Foot | EXTREMITIES - 87\n",
      "X-Ray For Medical Illness Adult | OTHERS - 88\n",
      "X-Ray Hand | EXTREMITIES - 87\n",
      "X-Ray Hip Joint | PELVIS - 92\n",
      "X-Ray Humerus | EXTREMITIES - 87\n",
      "X-Ray Internal Auditory Meatus | SKULL - 91\n",
      "X-Ray KUB (Kidney, Ureters, Bladder) | ABDOMEN - 1\n",
      "X-Ray Knee Joint | EXTREMITIES - 87\n",
      "X-Ray Low Limb Both-Paed-Bone Lgth Meas. | EXTREMITIES - 87\n",
      "X-Ray Lumbo-sacral | SPINES - 89\n",
      "X-Ray Mandible | SKULL - 91\n",
      "X-Ray Mastoids | SKULL - 91\n",
      "X-Ray Maxilla | SKULL - 91\n",
      "X-Ray Metastasis | SKELETAL SURVEY - 93\n",
      "X-Ray Multiple Myeloma | SKELETAL SURVEY - 93\n",
      "X-Ray Nasal Bone | SKULL - 91\n",
      "X-Ray Orbits | SKULL - 91\n",
      "X-Ray Orthopantomogram (OPG) | OPG - 94\n",
      "X-Ray Paranasal Sinuses | SKULL - 91\n",
      "X-Ray Pelvimetry | PELVIS - 92\n",
      "X-Ray Pelvis | PELVIS - 92\n",
      "X-Ray Petrous Temporal Bone | SKULL - 91\n",
      "X-Ray Pituitary Fossa | SKULL - 91\n",
      "X-Ray Post Nasal Space | SKULL - 91\n",
      "X-Ray Radius/Ulna | EXTREMITIES - 87\n",
      "X-Ray Renal Osteodystrophy | ABDOMEN - 1\n",
      "X-Ray SXR - Lateral Cephalometry | OPG - 94\n",
      "X-Ray Sacro-iliac Joints | SPINES - 89\n",
      "X-Ray Sacrum - Coccyx | SPINES - 89\n",
      "X-Ray Scaphoid | EXTREMITIES - 87\n",
      "X-Ray Scapula | EXTREMITIES - 87\n",
      "X-Ray Shoulder Joint | EXTREMITIES - 87\n",
      "X-Ray Shoulder Joint (INACTIVE) | EXTREMITIES - 87\n",
      "X-Ray Skeletal Survey | SKELETAL SURVEY - 93\n",
      "X-Ray Skull | SKULL - 91\n",
      "X-Ray Soft Tissue Neck | OTHERS - 88\n",
      "X-Ray Sterno-Clavicular Joints | EXTREMITIES - 87\n",
      "X-Ray Sternum | CHEST - 90\n",
      "X-Ray Temporo-Mandibular Jts | SKULL - 91\n",
      "X-Ray Thoracic | SPINES - 89\n",
      "X-Ray Thoraco-Lumbar | SPINES - 89\n",
      "X-Ray Thumb | EXTREMITIES - 87\n",
      "X-Ray Tibia/Fibula | EXTREMITIES - 87\n",
      "X-Ray Up Limbs Both-Paed-Bone Lgth Meas. | EXTREMITIES - 87\n",
      "X-Ray Whole Spine | SPINES - 89\n",
      "X-Ray Wrist Joint | SPINES - 89\n",
      "Hardcopy Angiography | HARD COPY - 95\n",
      "Hardcopy CT Scan | HARD COPY - 95\n",
      "Hardcopy Cardiac Angio | HARD COPY - 95\n",
      "Hardcopy Fluoroscopy | HARD COPY - 95\n",
      "Hardcopy General Radiography | HARD COPY - 95\n",
      "Hardcopy Interventional | HARD COPY - 95\n",
      "Hardcopy Intravenous Urography | HARD COPY - 95\n",
      "Hardcopy MRI | HARD COPY - 95\n",
      "Hardcopy Mammogram | HARD COPY - 95\n",
      "Hardcopy Ultrasound | HARD COPY - 95\n"
     ]
    }
   ],
   "source": [
    "for index, row in exam.iterrows():\n",
    "    parts = str(row['part_id']).upper()\n",
    "    exams = row['exam']\n",
    "    # print(f\"ID : {index} - {row['exam']} = {row['part_id']}\")\n",
    "    if pd.notnull(parts) and parts !='1' and parts != 'NAN':\n",
    "        print(f'{exams} | {parts} - {ang[parts]}')\n",
    "        Exam.objects.filter(exam=exams).update(part=ang[parts])"
   ],
   "metadata": {
    "collapsed": false,
    "ExecuteTime": {
     "end_time": "2024-01-13T01:40:25.980883646Z",
     "start_time": "2024-01-13T01:40:25.465551363Z"
    }
   },
   "id": "31a61ddccf3849d9"
  },
  {
   "cell_type": "code",
   "execution_count": null,
   "outputs": [],
   "source": [],
   "metadata": {
    "collapsed": false
   },
   "id": "f1d7279347c5648d"
  }
 ],
 "metadata": {
  "kernelspec": {
   "display_name": "Python 3",
   "language": "python",
   "name": "python3"
  },
  "language_info": {
   "codemirror_mode": {
    "name": "ipython",
    "version": 2
   },
   "file_extension": ".py",
   "mimetype": "text/x-python",
   "name": "python",
   "nbconvert_exporter": "python",
   "pygments_lexer": "ipython2",
   "version": "2.7.6"
  }
 },
 "nbformat": 4,
 "nbformat_minor": 5
}
